{
 "cells": [
  {
   "cell_type": "code",
   "id": "initial_id",
   "metadata": {
    "collapsed": true,
    "ExecuteTime": {
     "end_time": "2024-06-06T09:45:07.048585Z",
     "start_time": "2024-06-06T09:45:05.392992Z"
    }
   },
   "source": "import pandas as pd",
   "outputs": [],
   "execution_count": 1
  },
  {
   "metadata": {},
   "cell_type": "markdown",
   "source": "### Game summary",
   "id": "380273e5b623a3ff"
  },
  {
   "metadata": {
    "ExecuteTime": {
     "end_time": "2024-06-06T09:45:07.227069Z",
     "start_time": "2024-06-06T09:45:07.050579Z"
    }
   },
   "cell_type": "code",
   "source": [
    "game_summary = pd.read_csv('data/game_summary.csv')\n",
    "game_summary"
   ],
   "id": "b9314be0aeb8b981",
   "outputs": [
    {
     "data": {
      "text/plain": [
       "             game_date_est  game_sequence   game_id  game_status_id  \\\n",
       "0      1946-11-01 00:00:00            NaN  24600001               3   \n",
       "1      1946-11-02 00:00:00            NaN  24600003               3   \n",
       "2      1946-11-02 00:00:00            NaN  24600002               3   \n",
       "3      1946-11-02 00:00:00            NaN  24600004               3   \n",
       "4      1946-11-02 00:00:00            NaN  24600005               3   \n",
       "...                    ...            ...       ...             ...   \n",
       "58105  2023-06-07 00:00:00            1.0  42200403               3   \n",
       "58106  2023-06-09 00:00:00            1.0  42200404               3   \n",
       "58107  2023-06-12 00:00:00            1.0  42200405               3   \n",
       "58108  2023-02-19 00:00:00            1.0  32200001               3   \n",
       "58109  2023-02-19 00:00:00            1.0  32200001               3   \n",
       "\n",
       "      game_status_text         gamecode  home_team_id  visitor_team_id  \\\n",
       "0                  NaN  19461101/NYKHUS    1610610035       1610612752   \n",
       "1                  NaN  19461102/PITBOM    1610610034       1610610031   \n",
       "2                  NaN  19461102/BOSPRO    1610610032       1610612738   \n",
       "3                  NaN  19461102/NYKCHS    1610610025       1610612752   \n",
       "4                  NaN  19461102/WASDEF    1610610028       1610610036   \n",
       "...                ...              ...           ...              ...   \n",
       "58105            Final  20230607/DENMIA    1610612748       1610612743   \n",
       "58106            Final  20230609/DENMIA    1610612748       1610612743   \n",
       "58107            Final  20230612/MIADEN    1610612743       1610612748   \n",
       "58108            Final  20230219/GNSLBN    1610616834       1610616833   \n",
       "58109            Final  20230219/GNSLBN    1610616834       1610616833   \n",
       "\n",
       "       season  live_period live_pc_time natl_tv_broadcaster_abbreviation  \\\n",
       "0        1946            5          NaN                              NaN   \n",
       "1        1946            4          NaN                              NaN   \n",
       "2        1946            4          NaN                              NaN   \n",
       "3        1946            4          NaN                              NaN   \n",
       "4        1946            4          NaN                              NaN   \n",
       "...       ...          ...          ...                              ...   \n",
       "58105    2022            4                                           ABC   \n",
       "58106    2022            4                                           ABC   \n",
       "58107    2022            4                                           ABC   \n",
       "58108    2022            4                                       TNT/TBS   \n",
       "58109    2022            4                                       TNT/TBS   \n",
       "\n",
       "      live_period_time_bcast  wh_status  \n",
       "0                     Q5  -           1  \n",
       "1                     Q4  -           1  \n",
       "2                     Q4  -           1  \n",
       "3                     Q4  -           1  \n",
       "4                     Q4  -           1  \n",
       "...                      ...        ...  \n",
       "58105         Q4       - ABC          1  \n",
       "58106         Q4       - ABC          1  \n",
       "58107         Q4       - ABC          1  \n",
       "58108     Q4       - TNT/TBS          1  \n",
       "58109     Q4       - TNT/TBS          1  \n",
       "\n",
       "[58110 rows x 14 columns]"
      ],
      "text/html": [
       "<div>\n",
       "<style scoped>\n",
       "    .dataframe tbody tr th:only-of-type {\n",
       "        vertical-align: middle;\n",
       "    }\n",
       "\n",
       "    .dataframe tbody tr th {\n",
       "        vertical-align: top;\n",
       "    }\n",
       "\n",
       "    .dataframe thead th {\n",
       "        text-align: right;\n",
       "    }\n",
       "</style>\n",
       "<table border=\"1\" class=\"dataframe\">\n",
       "  <thead>\n",
       "    <tr style=\"text-align: right;\">\n",
       "      <th></th>\n",
       "      <th>game_date_est</th>\n",
       "      <th>game_sequence</th>\n",
       "      <th>game_id</th>\n",
       "      <th>game_status_id</th>\n",
       "      <th>game_status_text</th>\n",
       "      <th>gamecode</th>\n",
       "      <th>home_team_id</th>\n",
       "      <th>visitor_team_id</th>\n",
       "      <th>season</th>\n",
       "      <th>live_period</th>\n",
       "      <th>live_pc_time</th>\n",
       "      <th>natl_tv_broadcaster_abbreviation</th>\n",
       "      <th>live_period_time_bcast</th>\n",
       "      <th>wh_status</th>\n",
       "    </tr>\n",
       "  </thead>\n",
       "  <tbody>\n",
       "    <tr>\n",
       "      <th>0</th>\n",
       "      <td>1946-11-01 00:00:00</td>\n",
       "      <td>NaN</td>\n",
       "      <td>24600001</td>\n",
       "      <td>3</td>\n",
       "      <td>NaN</td>\n",
       "      <td>19461101/NYKHUS</td>\n",
       "      <td>1610610035</td>\n",
       "      <td>1610612752</td>\n",
       "      <td>1946</td>\n",
       "      <td>5</td>\n",
       "      <td>NaN</td>\n",
       "      <td>NaN</td>\n",
       "      <td>Q5  -</td>\n",
       "      <td>1</td>\n",
       "    </tr>\n",
       "    <tr>\n",
       "      <th>1</th>\n",
       "      <td>1946-11-02 00:00:00</td>\n",
       "      <td>NaN</td>\n",
       "      <td>24600003</td>\n",
       "      <td>3</td>\n",
       "      <td>NaN</td>\n",
       "      <td>19461102/PITBOM</td>\n",
       "      <td>1610610034</td>\n",
       "      <td>1610610031</td>\n",
       "      <td>1946</td>\n",
       "      <td>4</td>\n",
       "      <td>NaN</td>\n",
       "      <td>NaN</td>\n",
       "      <td>Q4  -</td>\n",
       "      <td>1</td>\n",
       "    </tr>\n",
       "    <tr>\n",
       "      <th>2</th>\n",
       "      <td>1946-11-02 00:00:00</td>\n",
       "      <td>NaN</td>\n",
       "      <td>24600002</td>\n",
       "      <td>3</td>\n",
       "      <td>NaN</td>\n",
       "      <td>19461102/BOSPRO</td>\n",
       "      <td>1610610032</td>\n",
       "      <td>1610612738</td>\n",
       "      <td>1946</td>\n",
       "      <td>4</td>\n",
       "      <td>NaN</td>\n",
       "      <td>NaN</td>\n",
       "      <td>Q4  -</td>\n",
       "      <td>1</td>\n",
       "    </tr>\n",
       "    <tr>\n",
       "      <th>3</th>\n",
       "      <td>1946-11-02 00:00:00</td>\n",
       "      <td>NaN</td>\n",
       "      <td>24600004</td>\n",
       "      <td>3</td>\n",
       "      <td>NaN</td>\n",
       "      <td>19461102/NYKCHS</td>\n",
       "      <td>1610610025</td>\n",
       "      <td>1610612752</td>\n",
       "      <td>1946</td>\n",
       "      <td>4</td>\n",
       "      <td>NaN</td>\n",
       "      <td>NaN</td>\n",
       "      <td>Q4  -</td>\n",
       "      <td>1</td>\n",
       "    </tr>\n",
       "    <tr>\n",
       "      <th>4</th>\n",
       "      <td>1946-11-02 00:00:00</td>\n",
       "      <td>NaN</td>\n",
       "      <td>24600005</td>\n",
       "      <td>3</td>\n",
       "      <td>NaN</td>\n",
       "      <td>19461102/WASDEF</td>\n",
       "      <td>1610610028</td>\n",
       "      <td>1610610036</td>\n",
       "      <td>1946</td>\n",
       "      <td>4</td>\n",
       "      <td>NaN</td>\n",
       "      <td>NaN</td>\n",
       "      <td>Q4  -</td>\n",
       "      <td>1</td>\n",
       "    </tr>\n",
       "    <tr>\n",
       "      <th>...</th>\n",
       "      <td>...</td>\n",
       "      <td>...</td>\n",
       "      <td>...</td>\n",
       "      <td>...</td>\n",
       "      <td>...</td>\n",
       "      <td>...</td>\n",
       "      <td>...</td>\n",
       "      <td>...</td>\n",
       "      <td>...</td>\n",
       "      <td>...</td>\n",
       "      <td>...</td>\n",
       "      <td>...</td>\n",
       "      <td>...</td>\n",
       "      <td>...</td>\n",
       "    </tr>\n",
       "    <tr>\n",
       "      <th>58105</th>\n",
       "      <td>2023-06-07 00:00:00</td>\n",
       "      <td>1.0</td>\n",
       "      <td>42200403</td>\n",
       "      <td>3</td>\n",
       "      <td>Final</td>\n",
       "      <td>20230607/DENMIA</td>\n",
       "      <td>1610612748</td>\n",
       "      <td>1610612743</td>\n",
       "      <td>2022</td>\n",
       "      <td>4</td>\n",
       "      <td></td>\n",
       "      <td>ABC</td>\n",
       "      <td>Q4       - ABC</td>\n",
       "      <td>1</td>\n",
       "    </tr>\n",
       "    <tr>\n",
       "      <th>58106</th>\n",
       "      <td>2023-06-09 00:00:00</td>\n",
       "      <td>1.0</td>\n",
       "      <td>42200404</td>\n",
       "      <td>3</td>\n",
       "      <td>Final</td>\n",
       "      <td>20230609/DENMIA</td>\n",
       "      <td>1610612748</td>\n",
       "      <td>1610612743</td>\n",
       "      <td>2022</td>\n",
       "      <td>4</td>\n",
       "      <td></td>\n",
       "      <td>ABC</td>\n",
       "      <td>Q4       - ABC</td>\n",
       "      <td>1</td>\n",
       "    </tr>\n",
       "    <tr>\n",
       "      <th>58107</th>\n",
       "      <td>2023-06-12 00:00:00</td>\n",
       "      <td>1.0</td>\n",
       "      <td>42200405</td>\n",
       "      <td>3</td>\n",
       "      <td>Final</td>\n",
       "      <td>20230612/MIADEN</td>\n",
       "      <td>1610612743</td>\n",
       "      <td>1610612748</td>\n",
       "      <td>2022</td>\n",
       "      <td>4</td>\n",
       "      <td></td>\n",
       "      <td>ABC</td>\n",
       "      <td>Q4       - ABC</td>\n",
       "      <td>1</td>\n",
       "    </tr>\n",
       "    <tr>\n",
       "      <th>58108</th>\n",
       "      <td>2023-02-19 00:00:00</td>\n",
       "      <td>1.0</td>\n",
       "      <td>32200001</td>\n",
       "      <td>3</td>\n",
       "      <td>Final</td>\n",
       "      <td>20230219/GNSLBN</td>\n",
       "      <td>1610616834</td>\n",
       "      <td>1610616833</td>\n",
       "      <td>2022</td>\n",
       "      <td>4</td>\n",
       "      <td></td>\n",
       "      <td>TNT/TBS</td>\n",
       "      <td>Q4       - TNT/TBS</td>\n",
       "      <td>1</td>\n",
       "    </tr>\n",
       "    <tr>\n",
       "      <th>58109</th>\n",
       "      <td>2023-02-19 00:00:00</td>\n",
       "      <td>1.0</td>\n",
       "      <td>32200001</td>\n",
       "      <td>3</td>\n",
       "      <td>Final</td>\n",
       "      <td>20230219/GNSLBN</td>\n",
       "      <td>1610616834</td>\n",
       "      <td>1610616833</td>\n",
       "      <td>2022</td>\n",
       "      <td>4</td>\n",
       "      <td></td>\n",
       "      <td>TNT/TBS</td>\n",
       "      <td>Q4       - TNT/TBS</td>\n",
       "      <td>1</td>\n",
       "    </tr>\n",
       "  </tbody>\n",
       "</table>\n",
       "<p>58110 rows × 14 columns</p>\n",
       "</div>"
      ]
     },
     "execution_count": 2,
     "metadata": {},
     "output_type": "execute_result"
    }
   ],
   "execution_count": 2
  },
  {
   "metadata": {
    "ExecuteTime": {
     "end_time": "2024-06-06T09:45:22.558648Z",
     "start_time": "2024-06-06T09:45:22.453300Z"
    }
   },
   "cell_type": "code",
   "source": "game_summary = game_summary[['game_date_est', 'game_id', 'season']]",
   "id": "eb00ea093bce2165",
   "outputs": [],
   "execution_count": 3
  },
  {
   "metadata": {
    "ExecuteTime": {
     "end_time": "2024-06-06T09:45:23.533839Z",
     "start_time": "2024-06-06T09:45:23.468016Z"
    }
   },
   "cell_type": "code",
   "source": "game_summary = game_summary.groupby(['game_id', 'season']).count()",
   "id": "f021f3d84a66e044",
   "outputs": [],
   "execution_count": 4
  },
  {
   "metadata": {
    "ExecuteTime": {
     "end_time": "2024-06-06T09:45:24.373211Z",
     "start_time": "2024-06-06T09:45:24.365719Z"
    }
   },
   "cell_type": "code",
   "source": "game_summary = game_summary[game_summary['game_date_est'] == 1]",
   "id": "8938f376a952d42d",
   "outputs": [],
   "execution_count": 5
  },
  {
   "metadata": {
    "ExecuteTime": {
     "end_time": "2024-06-06T09:45:38.790585Z",
     "start_time": "2024-06-06T09:45:38.779031Z"
    }
   },
   "cell_type": "code",
   "source": "game_summary = game_summary.reset_index()",
   "id": "4a6ef92968c190de",
   "outputs": [],
   "execution_count": 8
  },
  {
   "metadata": {
    "ExecuteTime": {
     "end_time": "2024-06-06T09:45:39.475186Z",
     "start_time": "2024-06-06T09:45:39.470688Z"
    }
   },
   "cell_type": "code",
   "source": "game_summary = game_summary.iloc[:,[0,1]]",
   "id": "22dbf4d164dc02d5",
   "outputs": [],
   "execution_count": 9
  },
  {
   "metadata": {
    "ExecuteTime": {
     "end_time": "2024-06-06T09:50:21.267608Z",
     "start_time": "2024-06-06T09:50:21.260627Z"
    }
   },
   "cell_type": "code",
   "source": "game_summary.head(5)",
   "id": "2a7c22b1dc01cf33",
   "outputs": [
    {
     "data": {
      "text/plain": [
       "    game_id  season\n",
       "0  10500001    2005\n",
       "1  10500002    2005\n",
       "2  10500003    2005\n",
       "3  10500004    2005\n",
       "4  10500005    2005"
      ],
      "text/html": [
       "<div>\n",
       "<style scoped>\n",
       "    .dataframe tbody tr th:only-of-type {\n",
       "        vertical-align: middle;\n",
       "    }\n",
       "\n",
       "    .dataframe tbody tr th {\n",
       "        vertical-align: top;\n",
       "    }\n",
       "\n",
       "    .dataframe thead th {\n",
       "        text-align: right;\n",
       "    }\n",
       "</style>\n",
       "<table border=\"1\" class=\"dataframe\">\n",
       "  <thead>\n",
       "    <tr style=\"text-align: right;\">\n",
       "      <th></th>\n",
       "      <th>game_id</th>\n",
       "      <th>season</th>\n",
       "    </tr>\n",
       "  </thead>\n",
       "  <tbody>\n",
       "    <tr>\n",
       "      <th>0</th>\n",
       "      <td>10500001</td>\n",
       "      <td>2005</td>\n",
       "    </tr>\n",
       "    <tr>\n",
       "      <th>1</th>\n",
       "      <td>10500002</td>\n",
       "      <td>2005</td>\n",
       "    </tr>\n",
       "    <tr>\n",
       "      <th>2</th>\n",
       "      <td>10500003</td>\n",
       "      <td>2005</td>\n",
       "    </tr>\n",
       "    <tr>\n",
       "      <th>3</th>\n",
       "      <td>10500004</td>\n",
       "      <td>2005</td>\n",
       "    </tr>\n",
       "    <tr>\n",
       "      <th>4</th>\n",
       "      <td>10500005</td>\n",
       "      <td>2005</td>\n",
       "    </tr>\n",
       "  </tbody>\n",
       "</table>\n",
       "</div>"
      ]
     },
     "execution_count": 21,
     "metadata": {},
     "output_type": "execute_result"
    }
   ],
   "execution_count": 21
  },
  {
   "metadata": {
    "ExecuteTime": {
     "end_time": "2024-06-06T09:45:54.090423Z",
     "start_time": "2024-06-06T09:45:53.999319Z"
    }
   },
   "cell_type": "code",
   "source": "game_summary.to_csv('GeneratedData/GameSummary.csv', index = False)",
   "id": "1e6566a833086ccc",
   "outputs": [],
   "execution_count": 10
  },
  {
   "metadata": {},
   "cell_type": "markdown",
   "source": "### Game info",
   "id": "5e7c3d91bc1e353d"
  },
  {
   "metadata": {
    "ExecuteTime": {
     "end_time": "2024-06-06T09:46:55.477085Z",
     "start_time": "2024-06-06T09:46:55.383613Z"
    }
   },
   "cell_type": "code",
   "source": "game_info = pd.read_csv('data/game_info.csv')",
   "id": "abc04b2cff658bb2",
   "outputs": [],
   "execution_count": 11
  },
  {
   "metadata": {
    "ExecuteTime": {
     "end_time": "2024-06-06T09:47:06.945790Z",
     "start_time": "2024-06-06T09:47:06.884452Z"
    }
   },
   "cell_type": "code",
   "source": "game_info.loc[:,['attendance']] = game_info.loc[:,['attendance']].fillna(value=17398)",
   "id": "edaf56c50d2fb1bc",
   "outputs": [],
   "execution_count": 13
  },
  {
   "metadata": {
    "ExecuteTime": {
     "end_time": "2024-06-06T09:47:09.685048Z",
     "start_time": "2024-06-06T09:47:09.679512Z"
    }
   },
   "cell_type": "code",
   "source": "game_info[['attendance']] =game_info[['attendance']].astype(int)",
   "id": "7bca75503d5c233c",
   "outputs": [],
   "execution_count": 15
  },
  {
   "metadata": {
    "ExecuteTime": {
     "end_time": "2024-06-06T09:47:13.933146Z",
     "start_time": "2024-06-06T09:47:13.926354Z"
    }
   },
   "cell_type": "code",
   "source": "game_info = game_info[['game_id', 'game_date', 'attendance']]",
   "id": "e97c3489d529d803",
   "outputs": [],
   "execution_count": 17
  },
  {
   "metadata": {
    "ExecuteTime": {
     "end_time": "2024-06-06T09:47:15.385126Z",
     "start_time": "2024-06-06T09:47:15.344727Z"
    }
   },
   "cell_type": "code",
   "source": "game_info = game_info.drop_duplicates()",
   "id": "4246b1c6f64ff1d4",
   "outputs": [],
   "execution_count": 18
  },
  {
   "metadata": {
    "ExecuteTime": {
     "end_time": "2024-06-06T09:50:47.015475Z",
     "start_time": "2024-06-06T09:50:47.009262Z"
    }
   },
   "cell_type": "code",
   "source": "game_info.head(5)",
   "id": "e99ab2ff84c29d6b",
   "outputs": [
    {
     "data": {
      "text/plain": [
       "    game_id            game_date  attendance\n",
       "0  24600001  1946-11-01 00:00:00       17398\n",
       "1  24600003  1946-11-02 00:00:00       17398\n",
       "2  24600002  1946-11-02 00:00:00       17398\n",
       "3  24600004  1946-11-02 00:00:00       17398\n",
       "4  24600005  1946-11-02 00:00:00       17398"
      ],
      "text/html": [
       "<div>\n",
       "<style scoped>\n",
       "    .dataframe tbody tr th:only-of-type {\n",
       "        vertical-align: middle;\n",
       "    }\n",
       "\n",
       "    .dataframe tbody tr th {\n",
       "        vertical-align: top;\n",
       "    }\n",
       "\n",
       "    .dataframe thead th {\n",
       "        text-align: right;\n",
       "    }\n",
       "</style>\n",
       "<table border=\"1\" class=\"dataframe\">\n",
       "  <thead>\n",
       "    <tr style=\"text-align: right;\">\n",
       "      <th></th>\n",
       "      <th>game_id</th>\n",
       "      <th>game_date</th>\n",
       "      <th>attendance</th>\n",
       "    </tr>\n",
       "  </thead>\n",
       "  <tbody>\n",
       "    <tr>\n",
       "      <th>0</th>\n",
       "      <td>24600001</td>\n",
       "      <td>1946-11-01 00:00:00</td>\n",
       "      <td>17398</td>\n",
       "    </tr>\n",
       "    <tr>\n",
       "      <th>1</th>\n",
       "      <td>24600003</td>\n",
       "      <td>1946-11-02 00:00:00</td>\n",
       "      <td>17398</td>\n",
       "    </tr>\n",
       "    <tr>\n",
       "      <th>2</th>\n",
       "      <td>24600002</td>\n",
       "      <td>1946-11-02 00:00:00</td>\n",
       "      <td>17398</td>\n",
       "    </tr>\n",
       "    <tr>\n",
       "      <th>3</th>\n",
       "      <td>24600004</td>\n",
       "      <td>1946-11-02 00:00:00</td>\n",
       "      <td>17398</td>\n",
       "    </tr>\n",
       "    <tr>\n",
       "      <th>4</th>\n",
       "      <td>24600005</td>\n",
       "      <td>1946-11-02 00:00:00</td>\n",
       "      <td>17398</td>\n",
       "    </tr>\n",
       "  </tbody>\n",
       "</table>\n",
       "</div>"
      ]
     },
     "execution_count": 22,
     "metadata": {},
     "output_type": "execute_result"
    }
   ],
   "execution_count": 22
  },
  {
   "metadata": {
    "ExecuteTime": {
     "end_time": "2024-06-06T09:47:41.147527Z",
     "start_time": "2024-06-06T09:47:41.042084Z"
    }
   },
   "cell_type": "code",
   "source": "game_info.to_csv('GeneratedData/GameInfo.csv', index = False)",
   "id": "15a8105468164a69",
   "outputs": [],
   "execution_count": 20
  },
  {
   "metadata": {},
   "cell_type": "markdown",
   "source": "### Game",
   "id": "8294e59d3b2dcfa2"
  },
  {
   "metadata": {
    "ExecuteTime": {
     "end_time": "2024-06-06T10:14:22.264840Z",
     "start_time": "2024-06-06T10:14:22.135060Z"
    }
   },
   "cell_type": "code",
   "source": "game = pd.read_csv('data/game.csv')",
   "id": "aa1e03a870a3d4d9",
   "outputs": [],
   "execution_count": 55
  },
  {
   "metadata": {
    "ExecuteTime": {
     "end_time": "2024-06-06T10:14:22.936197Z",
     "start_time": "2024-06-06T10:14:22.913237Z"
    }
   },
   "cell_type": "code",
   "source": [
    "game = game[['team_id_home',\n",
    "       'game_id', 'game_date', 'wl_home', 'min', 'fgm_home',\n",
    "       'fga_home', 'fg_pct_home', 'fg3m_home', 'fg3a_home', 'fg3_pct_home',\n",
    "       'ftm_home', 'fta_home', 'ft_pct_home', 'oreb_home', 'dreb_home',\n",
    "       'reb_home', 'ast_home', 'stl_home', 'blk_home', 'tov_home', 'pf_home',\n",
    "       'pts_home', 'team_id_away', 'wl_away',\n",
    "       'fgm_away', 'fga_away', 'fg_pct_away', 'fg3m_away', 'fg3a_away',\n",
    "       'fg3_pct_away', 'ftm_away', 'fta_away', 'ft_pct_away', 'oreb_away',\n",
    "       'dreb_away', 'reb_away', 'ast_away', 'stl_away', 'blk_away', 'tov_away',\n",
    "       'pf_away', 'pts_away',\n",
    "       'season_type']]"
   ],
   "id": "28727f8a97f43ebb",
   "outputs": [],
   "execution_count": 56
  },
  {
   "metadata": {
    "ExecuteTime": {
     "end_time": "2024-06-06T10:14:24.635436Z",
     "start_time": "2024-06-06T10:14:24.620003Z"
    }
   },
   "cell_type": "code",
   "source": [
    "game.loc[:,['fgm_home', 'fga_home', 'fg3m_home', 'fg3a_home', 'ftm_home', 'fta_home', 'oreb_home', 'dreb_home',\n",
    "       'reb_home', 'ast_home', 'stl_home', 'blk_home', 'tov_home', 'pf_home','pts_home',\n",
    "       'fgm_away', 'fga_away', 'fg3m_away', 'fg3a_away', 'ftm_away', 'fta_away', 'oreb_away',\n",
    "       'dreb_away', 'reb_away', 'ast_away', 'stl_away', 'blk_away', 'tov_away',\n",
    "       'pf_away', 'pts_away']] = game.loc[:,[ 'fgm_home', 'fga_home', 'fg3m_home', 'fg3a_home', 'ftm_home', 'fta_home', 'oreb_home', 'dreb_home',\n",
    "       'reb_home', 'ast_home', 'stl_home', 'blk_home', 'tov_home', 'pf_home','pts_home',\n",
    "       'fgm_away', 'fga_away', 'fg3m_away', 'fg3a_away', 'ftm_away', 'fta_away', 'oreb_away',\n",
    "       'dreb_away', 'reb_away', 'ast_away', 'stl_away', 'blk_away', 'tov_away',\n",
    "       'pf_away', 'pts_away']].astype(int)"
   ],
   "id": "b59006a00c29a40a",
   "outputs": [],
   "execution_count": 57
  },
  {
   "metadata": {
    "ExecuteTime": {
     "end_time": "2024-06-06T10:14:26.466393Z",
     "start_time": "2024-06-06T10:14:26.462956Z"
    }
   },
   "cell_type": "code",
   "source": " pd.options.mode.copy_on_write = True ",
   "id": "cf81d79ae17c27b",
   "outputs": [],
   "execution_count": 58
  },
  {
   "metadata": {
    "ExecuteTime": {
     "end_time": "2024-06-06T10:14:27.268333Z",
     "start_time": "2024-06-06T10:14:27.258742Z"
    }
   },
   "cell_type": "code",
   "source": "game['fg_pct_home'] = game['fg_pct_home'].astype(str).str.replace('.', ',')",
   "id": "bd29a45a19615ff4",
   "outputs": [],
   "execution_count": 59
  },
  {
   "metadata": {
    "ExecuteTime": {
     "end_time": "2024-06-06T10:14:27.791048Z",
     "start_time": "2024-06-06T10:14:27.782614Z"
    }
   },
   "cell_type": "code",
   "source": "game['fg3_pct_home'] = game['fg3_pct_home'].astype(str).str.replace('.', ',')",
   "id": "148aca1965f6b9",
   "outputs": [],
   "execution_count": 60
  },
  {
   "metadata": {
    "ExecuteTime": {
     "end_time": "2024-06-06T10:14:28.348986Z",
     "start_time": "2024-06-06T10:14:28.340950Z"
    }
   },
   "cell_type": "code",
   "source": "game['ft_pct_home'] = game['ft_pct_home'].astype(str).str.replace('.', ',')",
   "id": "864fcec7ea42565d",
   "outputs": [],
   "execution_count": 61
  },
  {
   "metadata": {
    "ExecuteTime": {
     "end_time": "2024-06-06T10:14:28.867527Z",
     "start_time": "2024-06-06T10:14:28.859549Z"
    }
   },
   "cell_type": "code",
   "source": "game['fg_pct_away'] = game['fg_pct_away'].astype(str).str.replace('.', ',')",
   "id": "51bfa15bb241775f",
   "outputs": [],
   "execution_count": 62
  },
  {
   "metadata": {
    "ExecuteTime": {
     "end_time": "2024-06-06T10:14:29.416111Z",
     "start_time": "2024-06-06T10:14:29.407135Z"
    }
   },
   "cell_type": "code",
   "source": "game['fg3_pct_away'] = game['fg3_pct_away'].astype(str).str.replace('.', ',')",
   "id": "3d831af764b9e1c3",
   "outputs": [],
   "execution_count": 63
  },
  {
   "metadata": {
    "ExecuteTime": {
     "end_time": "2024-06-06T10:14:29.969276Z",
     "start_time": "2024-06-06T10:14:29.960943Z"
    }
   },
   "cell_type": "code",
   "source": "game['ft_pct_away'] = game['ft_pct_away'].astype(str).str.replace('.', ',')",
   "id": "af6280069cf20ea",
   "outputs": [],
   "execution_count": 64
  },
  {
   "metadata": {
    "ExecuteTime": {
     "end_time": "2024-06-06T10:14:34.304051Z",
     "start_time": "2024-06-06T10:14:34.226044Z"
    }
   },
   "cell_type": "code",
   "source": "game = game.drop_duplicates()",
   "id": "86b2ef95e135b0e3",
   "outputs": [],
   "execution_count": 65
  },
  {
   "metadata": {
    "ExecuteTime": {
     "end_time": "2024-06-06T10:14:35.000074Z",
     "start_time": "2024-06-06T10:14:34.974809Z"
    }
   },
   "cell_type": "code",
   "source": "game = game.dropna()",
   "id": "a8d9831c3ab87be0",
   "outputs": [],
   "execution_count": 66
  },
  {
   "metadata": {
    "ExecuteTime": {
     "end_time": "2024-06-06T10:14:50.722059Z",
     "start_time": "2024-06-06T10:14:50.704600Z"
    }
   },
   "cell_type": "code",
   "source": [
    "game = game[game['fg_pct_home'] !='nan']\n",
    "game = game[game['ft_pct_away'] !='nan']"
   ],
   "id": "1921bfd498dcf27a",
   "outputs": [],
   "execution_count": 68
  },
  {
   "metadata": {
    "ExecuteTime": {
     "end_time": "2024-06-06T10:14:52.484406Z",
     "start_time": "2024-06-06T10:14:52.467596Z"
    }
   },
   "cell_type": "code",
   "source": "game = game[game['season_type'] != 'All-Star']",
   "id": "8d50635724392e1",
   "outputs": [],
   "execution_count": 69
  },
  {
   "metadata": {
    "ExecuteTime": {
     "end_time": "2024-06-06T10:15:01.458218Z",
     "start_time": "2024-06-06T10:15:01.076273Z"
    }
   },
   "cell_type": "code",
   "source": "game.to_csv('GeneratedData/Game.csv', index=False)",
   "id": "d2fc330068221d43",
   "outputs": [],
   "execution_count": 70
  }
 ],
 "metadata": {
  "kernelspec": {
   "display_name": "Python 3",
   "language": "python",
   "name": "python3"
  },
  "language_info": {
   "codemirror_mode": {
    "name": "ipython",
    "version": 2
   },
   "file_extension": ".py",
   "mimetype": "text/x-python",
   "name": "python",
   "nbconvert_exporter": "python",
   "pygments_lexer": "ipython2",
   "version": "2.7.6"
  }
 },
 "nbformat": 4,
 "nbformat_minor": 5
}
